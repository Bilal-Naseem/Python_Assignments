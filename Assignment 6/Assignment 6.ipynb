{
 "cells": [
  {
   "cell_type": "markdown",
   "metadata": {},
   "source": [
    "## Q)Define Object Oriented Programming Language?\n",
    "### Ans)\n",
    "######  1) Object-oriented programming is the problem-solving approach and used where computation is done by using objects.\n",
    "###### 2) It makes the development and maintenance easier.\n",
    "###### 3) It provides data hiding. So it is more secure than procedural languages. You cannot access private data from anywhere."
   ]
  },
  {
   "cell_type": "markdown",
   "metadata": {},
   "source": [
    "## Q) List down the Benefits of OOP?\n",
    "### Ans)\n",
    "###### 1) Modularity for easier troubleshooting\n",
    "###### 2) Reuse of code through inheritance\n",
    "###### 3) Flexibility through polymorphism\n",
    "###### 4) Effective problem solving"
   ]
  },
  {
   "cell_type": "markdown",
   "metadata": {},
   "source": [
    "## Q) Differentiate between function and method?\n",
    "### Ans)\n",
    "##### Function\n",
    "###### 1) if we have to use a task again and again we write that task in a function and call it when we need it.\n",
    "###### 2) we can pass arguments when calling a funtion if it takes parameters .\n",
    "###### 3) In function you have to pass class attributes as parameters else you can use them in function.\n",
    "##### Method\n",
    "###### 1) Methods are written in the scope of class.\n",
    "###### 2) Methods take \"self\" as first parameter , then you know that its a method\n",
    "######    3) self in method takes all the attributes which are defined in class and u can use the attributes in method using self keyword ."
   ]
  },
  {
   "cell_type": "markdown",
   "metadata": {},
   "source": [
    "## Q) Define :\n",
    "#### Class:\n",
    "###### A class is a user-defined data type, which holds its own data members and member functions, which can be accessed and used by creating an instance of that class.\n",
    "#### Objects:\n",
    "###### An Object is an instance of a Class. When a class is defined, no memory is allocated but when it is instantiated (i.e. an object is created) memory is allocated.\n",
    "#### Attributes:\n",
    "###### Attributes are the data members of a class which holds the values assinged to them while creating a class object. Every object can hold different values in their attributes.\n",
    "#### Behaviour:\n",
    "###### A class's behavior determines how an instance of that class operates; for example, how it will \"react\" if asked to do something by another class or object or if its internal state changes. Behavior is the only way objects can do anything to themselves or have anything done to them."
   ]
  },
  {
   "cell_type": "markdown",
   "metadata": {},
   "source": [
    "# Question 5:"
   ]
  },
  {
   "cell_type": "code",
   "execution_count": 1,
   "metadata": {},
   "outputs": [
    {
     "name": "stdout",
     "output_type": "stream",
     "text": [
      "----------1---------\n",
      "Company\t: Audi\n",
      "Name\t: A3\n",
      "Model\t: 2019\n",
      "Color\t: Black\n",
      "Price\t: $36,600\n",
      "----------2---------\n",
      "Company\t: Audi\n",
      "Name\t: A5\n",
      "Model\t: 2019\n",
      "Color\t: Black\n",
      "Price\t: $40,600\n",
      "----------3---------\n",
      "Company\t: Tesla\n",
      "Name\t: Cyber Truck\n",
      "Model\t: 2019\n",
      "Color\t: Gray\n",
      "Price\t: $39,000\n",
      "------3(Changed)-----[Added a new attribute in car 3]\n",
      "Company\t: Tesla\n",
      "Name\t: Cyber Truck\n",
      "Model\t: 2019\n",
      "Color\t: Gray\n",
      "Price\t: $39,000\n",
      "Luxories: First in the Region\n",
      "----------4---------\n",
      "Company\t: Lamborghini\n",
      "Name\t: Aventador S\n",
      "Model\t: 2019\n",
      "Color\t: Black\n",
      "Price\t: $417,826\n",
      "------4(Changed)-----[changed color of a car 4]\n",
      "Company\t: Lamborghini\n",
      "Name\t: Aventador S\n",
      "Model\t: 2019\n",
      "Color\t: Matt Black\n",
      "Price\t: $417,826\n",
      "----------5---------\n",
      "Company\t: Lamborghini\n",
      "Name\t: Spyder\n",
      "Model\t: 2019\n",
      "Color\t: Black\n",
      "Price\t: $308,859\n"
     ]
    }
   ],
   "source": [
    "\n",
    "class Car():\n",
    "    #Attributes\n",
    "    def __init__(self,name,model,color,Company,Price):\n",
    "        self.model = model\n",
    "        self.color = color\n",
    "        self.name = name\n",
    "        self.Company = Company        \n",
    "        self.Price = Price\n",
    "    def PrintData(self):\n",
    "        print(\"Company\\t: {}\\nName\\t: {}\\nModel\\t: {}\\nColor\\t: {}\\nPrice\\t: {}\".format(self.Company,self.name,self.model,self.color,self.Price))\n",
    " \n",
    "    def changeModel(self,new_model):\n",
    "        self.model = new_model\n",
    "\n",
    "    def changePrice(self,new_price):\n",
    "        self.Price = new_price\n",
    "\n",
    "    def changeColor(self,new_color):\n",
    "        self.color = new_color\n",
    "\n",
    "    def add_Luxories(self,LNEW):\n",
    "        self.Luxories = LNEW;\n",
    "\n",
    "car1 = Car(\"A3\",\"2019\",\"Black\",\"Audi\",\"$36,600\")\n",
    "car2 = Car(\"A5\",\"2019\",\"Black\",\"Audi\",\"$40,600\")\n",
    "car3 = Car(\"Cyber Truck\",\"2019\",\"Gray\",\"Tesla\",\"$39,000\")\n",
    "car4 = Car(\"Aventador S\",\"2019\",\"Black\",\"Lamborghini\",\"$417,826\")\n",
    "car5 = Car(\"Spyder\",\"2019\",\"Black\",\"Lamborghini\",\"$308,859\")\n",
    "print(\"----------1---------\")\n",
    "\n",
    "car1.PrintData()\n",
    "\n",
    "print(\"----------2---------\")\n",
    "\n",
    "car2.PrintData()\n",
    "\n",
    "print(\"----------3---------\")\n",
    "\n",
    "car3.PrintData()\n",
    "\n",
    "print(\"------3(Changed)-----[Added a new attribute in car 3]\")\n",
    "\n",
    "car3.add_Luxories(\"First in the Region\")\n",
    "car3.PrintData()\n",
    "print(\"Luxories:\",car3.Luxories);\n",
    "\n",
    "print(\"----------4---------\")\n",
    "\n",
    "car4.PrintData()\n",
    "\n",
    "print(\"------4(Changed)-----[changed color of a car 4]\")\n",
    "\n",
    "car4.changeColor(\"Matt Black\")\n",
    "car4.PrintData()\n",
    "\n",
    "print(\"----------5---------\")\n",
    "\n",
    "car5.PrintData()"
   ]
  }
 ],
 "metadata": {
  "kernelspec": {
   "display_name": "Python 3",
   "language": "python",
   "name": "python3"
  },
  "language_info": {
   "codemirror_mode": {
    "name": "ipython",
    "version": 3
   },
   "file_extension": ".py",
   "mimetype": "text/x-python",
   "name": "python",
   "nbconvert_exporter": "python",
   "pygments_lexer": "ipython3",
   "version": "3.7.4"
  }
 },
 "nbformat": 4,
 "nbformat_minor": 2
}
