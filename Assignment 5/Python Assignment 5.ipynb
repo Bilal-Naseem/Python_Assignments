{
 "cells": [
  {
   "cell_type": "code",
   "execution_count": 18,
   "metadata": {},
   "outputs": [
    {
     "name": "stdout",
     "output_type": "stream",
     "text": [
      "Enter Number : 5\n",
      "Factorial :  120\n"
     ]
    }
   ],
   "source": [
    "#Task 1\n",
    "def factorial(a):\n",
    "    for i in range(1,a):\n",
    "        a = a*i\n",
    "    return a\n",
    "print(\"Factorial : \",factorial(int(input(\"Enter Number : \"))))"
   ]
  },
  {
   "cell_type": "code",
   "execution_count": 21,
   "metadata": {},
   "outputs": [
    {
     "name": "stdout",
     "output_type": "stream",
     "text": [
      "Give A String To Evaluate : A Quick Brown Fox Jumped Over A Lazy Dog\n",
      "Number of Upper Case : 9\n",
      "Number of Lower Case : 31\n"
     ]
    }
   ],
   "source": [
    "#Task 2\n",
    "def evaluate(a):\n",
    "    up = 0\n",
    "    low = 0\n",
    "    for char in a:\n",
    "        if(char.isupper()):\n",
    "            up +=1\n",
    "        else:\n",
    "            low +=1\n",
    "    print(\"Number of Upper Case :\", up)\n",
    "    print(\"Number of Lower Case :\", low)\n",
    "evaluate(input(\"Give A String To Evaluate : \"))"
   ]
  },
  {
   "cell_type": "code",
   "execution_count": 23,
   "metadata": {},
   "outputs": [
    {
     "name": "stdout",
     "output_type": "stream",
     "text": [
      "No of Even Numbers in the list are : 5\n"
     ]
    }
   ],
   "source": [
    "#Task 3\n",
    "def Even(a_list):\n",
    "    evens = 0\n",
    "    for number in a_list:\n",
    "        if(number%2 == 0):\n",
    "            evens += 1\n",
    "    print(\"No of Even Numbers in the list are :\",evens)\n",
    "b_list = [1,2,3,4,5,6,7,8,9,10]\n",
    "Even(b_list)"
   ]
  },
  {
   "cell_type": "code",
   "execution_count": 33,
   "metadata": {},
   "outputs": [
    {
     "name": "stdout",
     "output_type": "stream",
     "text": [
      "Enter a word for evaluation : LOL\n",
      "Given Word  lol  is a Palindrome\n",
      "-------------------------\n",
      "Given Word  tibit  is a Palindrome\n",
      "Given Word  madam  is a Palindrome\n",
      "Given Word  mom  is a Palindrome\n",
      "Given Word  dad  is a Palindrome\n",
      "-------------------------\n",
      "Given Word  yorkshire  is NOT a Palindrome\n",
      "Given Word  karachi  is NOT a Palindrome\n",
      "Given Word  saylani  is NOT a Palindrome\n",
      "Given Word  car  is NOT a Palindrome\n"
     ]
    }
   ],
   "source": [
    "#Task 4\n",
    "def isPalindrome(word):\n",
    "    word2 = word[::-1]\n",
    "    if(word == word2):\n",
    "        print(\"Given Word \", word ,\" is a Palindrome\")\n",
    "    else:\n",
    "        print(\"Given Word \", word ,\" is NOT a Palindrome\")\n",
    "\n",
    "isPalindrome(input(\"Enter a word for evaluation : \").lower())\n",
    "\n",
    "palindromes = [\"tibit\",\"Madam\",\"mom\",\"dad\"]\n",
    "Not_palindromes = [\"Yorkshire\",\"Karachi\",\"Saylani\",\"Car\"]\n",
    "\n",
    "print(\"-------------------------\")\n",
    "for enter in palindromes:\n",
    "    isPalindrome(enter.lower())\n",
    "print(\"-------------------------\")\n",
    "for enter in Not_palindromes:\n",
    "    isPalindrome(enter.lower())"
   ]
  },
  {
   "cell_type": "code",
   "execution_count": 42,
   "metadata": {},
   "outputs": [
    {
     "name": "stdout",
     "output_type": "stream",
     "text": [
      "Enter to Number : 123564\n",
      "Given Number  123564  is NOT a Prime Number\n",
      "-------------------------\n",
      "Given Number  1  is a Prime Number\n",
      "Given Number  2  is a Prime Number\n",
      "Given Number  3  is a Prime Number\n",
      "Given Number  5  is a Prime Number\n",
      "Given Number  7  is a Prime Number\n",
      "Given Number  11  is a Prime Number\n",
      "Given Number  13  is a Prime Number\n",
      "-------------------------\n",
      "Given Number  4  is NOT a Prime Number\n",
      "Given Number  6  is NOT a Prime Number\n",
      "Given Number  8  is NOT a Prime Number\n",
      "Given Number  9  is NOT a Prime Number\n",
      "Given Number  10  is NOT a Prime Number\n",
      "Given Number  12  is NOT a Prime Number\n",
      "Given Number  14  is NOT a Prime Number\n"
     ]
    }
   ],
   "source": [
    "#Task 5\n",
    "def isprime(number):\n",
    "    boolean = True;\n",
    "    for a in range(2,number-1):\n",
    "        if number % a == 0:\n",
    "            boolean = False\n",
    "            break\n",
    "    if boolean:\n",
    "        print(\"Given Number \", number ,\" is a Prime Number\")\n",
    "    else:\n",
    "        print(\"Given Number \", number ,\" is NOT a Prime Number\")\n",
    "isprime(int(input(\"Enter to Number : \")))\n",
    "\n",
    "print(\"-------------------------\")\n",
    "List_of_Prime = [1,2,3,5,7,11,13]\n",
    "for a in List_of_Prime:\n",
    "    isprime(a)\n",
    "print(\"-------------------------\")\n",
    "List_of_Non_Prime = [4,6,8,9,10,12,14]\n",
    "for a in List_of_Non_Prime:\n",
    "    isprime(a)"
   ]
  },
  {
   "cell_type": "code",
   "execution_count": 7,
   "metadata": {},
   "outputs": [
    {
     "name": "stdout",
     "output_type": "stream",
     "text": [
      "Total Number of Items Bought by the User are 4 :\n",
      "\t 1 eggs\n",
      "\t 2 Bread\n",
      "\t 3 Milk\n",
      "\t 4 Sugar\n",
      "Total Number of Items Bought by the User are 3 :\n",
      "\t 1 Match Box\n",
      "\t 2 Peanuts\n",
      "\t 3 Tissue Box\n",
      "Total Number of Items Bought by the User are 2 :\n",
      "\t 1 Juice Box\n",
      "\t 2 Bag of Chips\n",
      "Total Number of Items Bought by the User are 1 :\n",
      "\t 1 Chocolate Bar\n"
     ]
    }
   ],
   "source": [
    "#Task 6\n",
    "def shopping_List(*items):\n",
    "    print(\"Total Number of Items Bought by the User are\" ,len(items), \":\")\n",
    "    for a in items:\n",
    "        print('\\t',items.index(a)+1,a)\n",
    "shopping_List(\"eggs\",\"Bread\",\"Milk\",\"Sugar\")#4 Arguments\n",
    "shopping_List(\"Match Box\",\"Peanuts\",\"Tissue Box\")#3 Arguments\n",
    "shopping_List(\"Juice Box\", \"Bag of Chips\")#2 Arguments\n",
    "shopping_List(\"Chocolate Bar\")#single Argumnet"
   ]
  }
 ],
 "metadata": {
  "kernelspec": {
   "display_name": "Python 3",
   "language": "python",
   "name": "python3"
  },
  "language_info": {
   "codemirror_mode": {
    "name": "ipython",
    "version": 3
   },
   "file_extension": ".py",
   "mimetype": "text/x-python",
   "name": "python",
   "nbconvert_exporter": "python",
   "pygments_lexer": "ipython3",
   "version": "3.7.4"
  }
 },
 "nbformat": 4,
 "nbformat_minor": 2
}
